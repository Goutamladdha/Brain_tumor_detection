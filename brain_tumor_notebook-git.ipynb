{
  "metadata": {
    "kernelspec": {
      "language": "python",
      "display_name": "Python 3",
      "name": "python3"
    },
    "language_info": {
      "name": "python",
      "version": "3.7.12",
      "mimetype": "text/x-python",
      "codemirror_mode": {
        "name": "ipython",
        "version": 3
      },
      "pygments_lexer": "ipython3",
      "nbconvert_exporter": "python",
      "file_extension": ".py"
    },
    "colab": {
      "provenance": []
    }
  },
  "nbformat_minor": 0,
  "nbformat": 4,
  "cells": [
    {
      "cell_type": "code",
      "source": [
        "import keras\n",
        "from keras.models import Sequential\n",
        "from keras.layers import Conv2D,Flatten,Dense,MaxPooling2D,Dropout\n",
        "from sklearn.metrics import accuracy_score"
      ],
      "metadata": {
        "execution": {
          "iopub.status.busy": "2022-11-19T07:15:26.338495Z",
          "iopub.execute_input": "2022-11-19T07:15:26.338877Z",
          "iopub.status.idle": "2022-11-19T07:15:26.404272Z",
          "shell.execute_reply.started": "2022-11-19T07:15:26.338844Z",
          "shell.execute_reply": "2022-11-19T07:15:26.402997Z"
        },
        "trusted": true,
        "id": "pOhNXz-aWqEm"
      },
      "execution_count": null,
      "outputs": []
    },
    {
      "cell_type": "code",
      "source": [
        "import ipywidgets as widgets\n",
        "import io\n",
        "from PIL import Image\n",
        "import tqdm\n",
        "from sklearn.model_selection import train_test_split\n",
        "import cv2\n",
        "from sklearn.utils import shuffle\n",
        "import tensorflow as tf"
      ],
      "metadata": {
        "execution": {
          "iopub.status.busy": "2022-11-19T07:19:17.638858Z",
          "iopub.execute_input": "2022-11-19T07:19:17.639297Z",
          "iopub.status.idle": "2022-11-19T07:19:17.940405Z",
          "shell.execute_reply.started": "2022-11-19T07:19:17.639261Z",
          "shell.execute_reply": "2022-11-19T07:19:17.938985Z"
        },
        "trusted": true,
        "id": "eZXVvuMBWqEn"
      },
      "execution_count": null,
      "outputs": []
    },
    {
      "cell_type": "code",
      "source": [
        "X_train = []\n",
        "Y_train = []\n",
        "image_size = 150\n",
        "labels = ['glioma_tumor','meningioma_tumor','no_tumor','pituitary_tumor']\n",
        "for i in labels:\n",
        "    folderPath = os.path.join('../input/brain-tumor-classification-mri/Training',i)\n",
        "    for j in os.listdir(folderPath):\n",
        "        img = cv2.imread(os.path.join(folderPath,j))\n",
        "        img = cv2.resize(img,(image_size,image_size))\n",
        "        X_train.append(img)\n",
        "        Y_train.append(i)\n",
        "        \n",
        "for i in labels:\n",
        "    folderPath = os.path.join('../input/brain-tumor-classification-mri/Testing',i)\n",
        "    for j in os.listdir(folderPath):\n",
        "        img = cv2.imread(os.path.join(folderPath,j))\n",
        "        img = cv2.resize(img,(image_size,image_size))\n",
        "        X_train.append(img)\n",
        "        Y_train.append(i)\n",
        "\n",
        "X_train = np.array(X_train)\n",
        "Y_train = np.array(Y_train)"
      ],
      "metadata": {
        "execution": {
          "iopub.status.busy": "2022-11-19T07:30:28.973792Z",
          "iopub.execute_input": "2022-11-19T07:30:28.974194Z",
          "iopub.status.idle": "2022-11-19T07:30:55.367809Z",
          "shell.execute_reply.started": "2022-11-19T07:30:28.974144Z",
          "shell.execute_reply": "2022-11-19T07:30:55.366547Z"
        },
        "trusted": true,
        "id": "FxRIqMQ7WqEp"
      },
      "execution_count": null,
      "outputs": []
    },
    {
      "cell_type": "code",
      "source": [
        "X_train,Y_train = shuffle(X_train,Y_train,random_state=101)\n",
        "X_train.shape"
      ],
      "metadata": {
        "execution": {
          "iopub.status.busy": "2022-11-19T07:32:34.732643Z",
          "iopub.execute_input": "2022-11-19T07:32:34.733259Z",
          "iopub.status.idle": "2022-11-19T07:32:34.910597Z",
          "shell.execute_reply.started": "2022-11-19T07:32:34.733212Z",
          "shell.execute_reply": "2022-11-19T07:32:34.904661Z"
        },
        "trusted": true,
        "id": "uYCh3TUBWqEq",
        "outputId": "704c8923-24cc-47b7-e251-3d823ebb1657"
      },
      "execution_count": null,
      "outputs": [
        {
          "execution_count": 8,
          "output_type": "execute_result",
          "data": {
            "text/plain": "(3264, 150, 150, 3)"
          },
          "metadata": {}
        }
      ]
    },
    {
      "cell_type": "raw",
      "source": [
        "Train test split"
      ],
      "metadata": {
        "id": "2pgxA3jaWqEr"
      }
    },
    {
      "cell_type": "code",
      "source": [
        "X_train,X_test,y_train,y_test = train_test_split(X_train,Y_train,test_size=0.1,random_state=101)"
      ],
      "metadata": {
        "execution": {
          "iopub.status.busy": "2022-11-19T07:35:14.066783Z",
          "iopub.execute_input": "2022-11-19T07:35:14.067228Z",
          "iopub.status.idle": "2022-11-19T07:35:14.123077Z",
          "shell.execute_reply.started": "2022-11-19T07:35:14.067168Z",
          "shell.execute_reply": "2022-11-19T07:35:14.121936Z"
        },
        "trusted": true,
        "id": "iifzcV_ZWqEs"
      },
      "execution_count": null,
      "outputs": []
    },
    {
      "cell_type": "code",
      "source": [
        "y_train_new = []\n",
        "for i in y_train:\n",
        "    y_train_new.append(labels.index(i))\n",
        "y_train=y_train_new\n",
        "y_train = tf.keras.utils.to_categorical(y_train)\n",
        "\n",
        "y_test_new = []\n",
        "for i in y_test:\n",
        "    y_test_new.append(labels.index(i))\n",
        "y_test=y_test_new\n",
        "y_test = tf.keras.utils.to_categorical(y_test)"
      ],
      "metadata": {
        "execution": {
          "iopub.status.busy": "2022-11-19T07:40:02.908265Z",
          "iopub.execute_input": "2022-11-19T07:40:02.908877Z",
          "iopub.status.idle": "2022-11-19T07:40:02.918091Z",
          "shell.execute_reply.started": "2022-11-19T07:40:02.908839Z",
          "shell.execute_reply": "2022-11-19T07:40:02.916950Z"
        },
        "trusted": true,
        "id": "Q2J1nEsMWqEt"
      },
      "execution_count": null,
      "outputs": []
    },
    {
      "cell_type": "markdown",
      "source": [
        "Convolutional Neural Network"
      ],
      "metadata": {
        "id": "bofwzUVXWqEu"
      }
    },
    {
      "cell_type": "code",
      "source": [
        "model = Sequential()\n",
        "model.add(Conv2D(32,(3,3),activation = 'relu',input_shape=(150,150,3)))\n",
        "model.add(Conv2D(64,(3,3),activation='relu'))\n",
        "model.add(MaxPooling2D(2,2))\n",
        "model.add(Dropout(0.3))\n",
        "model.add(Conv2D(64,(3,3),activation='relu'))\n",
        "model.add(Conv2D(64,(3,3),activation='relu'))\n",
        "model.add(Dropout(0.3))\n",
        "model.add(MaxPooling2D(2,2))\n",
        "model.add(Dropout(0.3))\n",
        "model.add(Conv2D(128,(3,3),activation='relu'))\n",
        "model.add(Conv2D(128,(3,3),activation='relu'))\n",
        "model.add(Conv2D(128,(3,3),activation='relu'))\n",
        "model.add(MaxPooling2D(2,2))\n",
        "model.add(Dropout(0.3))\n",
        "model.add(Conv2D(128,(3,3),activation='relu'))\n",
        "model.add(Conv2D(256,(3,3),activation='relu'))\n",
        "model.add(MaxPooling2D(2,2))\n",
        "model.add(Dropout(0.3))\n",
        "model.add(Flatten())\n",
        "model.add(Dense(512,activation = 'relu'))\n",
        "model.add(Dense(512,activation = 'relu'))\n",
        "model.add(Dropout(0.3))\n",
        "model.add(Dense(4,activation='softmax'))"
      ],
      "metadata": {
        "execution": {
          "iopub.status.busy": "2022-11-19T07:49:31.587909Z",
          "iopub.execute_input": "2022-11-19T07:49:31.588314Z",
          "iopub.status.idle": "2022-11-19T07:49:34.786974Z",
          "shell.execute_reply.started": "2022-11-19T07:49:31.588280Z",
          "shell.execute_reply": "2022-11-19T07:49:34.785930Z"
        },
        "trusted": true,
        "id": "wddvHwpiWqEw"
      },
      "execution_count": null,
      "outputs": []
    },
    {
      "cell_type": "code",
      "source": [
        "model.summary()"
      ],
      "metadata": {
        "execution": {
          "iopub.status.busy": "2022-11-19T07:49:50.281096Z",
          "iopub.execute_input": "2022-11-19T07:49:50.282210Z",
          "iopub.status.idle": "2022-11-19T07:49:50.291252Z",
          "shell.execute_reply.started": "2022-11-19T07:49:50.282133Z",
          "shell.execute_reply": "2022-11-19T07:49:50.290239Z"
        },
        "trusted": true,
        "id": "KxcyZCbBWqEy",
        "outputId": "5e9255df-a3d6-4ebf-b8d9-968d28db443b"
      },
      "execution_count": null,
      "outputs": [
        {
          "name": "stdout",
          "text": "Model: \"sequential\"\n_________________________________________________________________\nLayer (type)                 Output Shape              Param #   \n=================================================================\nconv2d (Conv2D)              (None, 148, 148, 32)      896       \n_________________________________________________________________\nconv2d_1 (Conv2D)            (None, 146, 146, 64)      18496     \n_________________________________________________________________\nmax_pooling2d (MaxPooling2D) (None, 73, 73, 64)        0         \n_________________________________________________________________\ndropout (Dropout)            (None, 73, 73, 64)        0         \n_________________________________________________________________\nconv2d_2 (Conv2D)            (None, 71, 71, 64)        36928     \n_________________________________________________________________\nconv2d_3 (Conv2D)            (None, 69, 69, 64)        36928     \n_________________________________________________________________\ndropout_1 (Dropout)          (None, 69, 69, 64)        0         \n_________________________________________________________________\nmax_pooling2d_1 (MaxPooling2 (None, 34, 34, 64)        0         \n_________________________________________________________________\ndropout_2 (Dropout)          (None, 34, 34, 64)        0         \n_________________________________________________________________\nconv2d_4 (Conv2D)            (None, 32, 32, 128)       73856     \n_________________________________________________________________\nconv2d_5 (Conv2D)            (None, 30, 30, 128)       147584    \n_________________________________________________________________\nconv2d_6 (Conv2D)            (None, 28, 28, 128)       147584    \n_________________________________________________________________\nmax_pooling2d_2 (MaxPooling2 (None, 14, 14, 128)       0         \n_________________________________________________________________\ndropout_3 (Dropout)          (None, 14, 14, 128)       0         \n_________________________________________________________________\nconv2d_7 (Conv2D)            (None, 12, 12, 128)       147584    \n_________________________________________________________________\nconv2d_8 (Conv2D)            (None, 10, 10, 256)       295168    \n_________________________________________________________________\nmax_pooling2d_3 (MaxPooling2 (None, 5, 5, 256)         0         \n_________________________________________________________________\ndropout_4 (Dropout)          (None, 5, 5, 256)         0         \n_________________________________________________________________\nflatten (Flatten)            (None, 6400)              0         \n_________________________________________________________________\ndense (Dense)                (None, 512)               3277312   \n_________________________________________________________________\ndense_1 (Dense)              (None, 512)               262656    \n_________________________________________________________________\ndropout_5 (Dropout)          (None, 512)               0         \n_________________________________________________________________\ndense_2 (Dense)              (None, 4)                 2052      \n=================================================================\nTotal params: 4,447,044\nTrainable params: 4,447,044\nNon-trainable params: 0\n_________________________________________________________________\n",
          "output_type": "stream"
        }
      ]
    },
    {
      "cell_type": "code",
      "source": [
        "model.compile(loss='categorical_crossentropy',optimizer='Adam',metrics=['accuracy'])"
      ],
      "metadata": {
        "execution": {
          "iopub.status.busy": "2022-11-19T07:51:48.274809Z",
          "iopub.execute_input": "2022-11-19T07:51:48.275238Z",
          "iopub.status.idle": "2022-11-19T07:51:48.289950Z",
          "shell.execute_reply.started": "2022-11-19T07:51:48.275150Z",
          "shell.execute_reply": "2022-11-19T07:51:48.288874Z"
        },
        "trusted": true,
        "id": "1LUij-grWqEz"
      },
      "execution_count": null,
      "outputs": []
    },
    {
      "cell_type": "code",
      "source": [
        "history = model.fit(X_train,y_train,epochs=20,validation_split=0.1)"
      ],
      "metadata": {
        "execution": {
          "iopub.status.busy": "2022-11-19T07:53:06.572894Z",
          "iopub.execute_input": "2022-11-19T07:53:06.573289Z",
          "iopub.status.idle": "2022-11-19T07:54:29.855720Z",
          "shell.execute_reply.started": "2022-11-19T07:53:06.573254Z",
          "shell.execute_reply": "2022-11-19T07:54:29.854598Z"
        },
        "trusted": true,
        "id": "KGsqExlOWqE0",
        "outputId": "feaf368a-d2e9-4314-818e-c07c16e6feb2"
      },
      "execution_count": null,
      "outputs": [
        {
          "name": "stderr",
          "text": "2022-11-19 07:53:06.999435: I tensorflow/compiler/mlir/mlir_graph_optimization_pass.cc:185] None of the MLIR Optimization Passes are enabled (registered 2)\n",
          "output_type": "stream"
        },
        {
          "name": "stdout",
          "text": "Epoch 1/20\n",
          "output_type": "stream"
        },
        {
          "name": "stderr",
          "text": "2022-11-19 07:53:08.849862: I tensorflow/stream_executor/cuda/cuda_dnn.cc:369] Loaded cuDNN version 8005\n",
          "output_type": "stream"
        },
        {
          "name": "stdout",
          "text": "83/83 [==============================] - 13s 51ms/step - loss: 2.4654 - accuracy: 0.2910 - val_loss: 1.3617 - val_accuracy: 0.2891\nEpoch 2/20\n83/83 [==============================] - 3s 41ms/step - loss: 1.2606 - accuracy: 0.4181 - val_loss: 1.1540 - val_accuracy: 0.4966\nEpoch 3/20\n83/83 [==============================] - 3s 40ms/step - loss: 1.0562 - accuracy: 0.5316 - val_loss: 1.0465 - val_accuracy: 0.5204\nEpoch 4/20\n83/83 [==============================] - 3s 40ms/step - loss: 0.8985 - accuracy: 0.6186 - val_loss: 0.9262 - val_accuracy: 0.5952\nEpoch 5/20\n83/83 [==============================] - 3s 40ms/step - loss: 0.8465 - accuracy: 0.6561 - val_loss: 0.8838 - val_accuracy: 0.6837\nEpoch 6/20\n83/83 [==============================] - 3s 40ms/step - loss: 0.7577 - accuracy: 0.6856 - val_loss: 0.7540 - val_accuracy: 0.6429\nEpoch 7/20\n83/83 [==============================] - 3s 40ms/step - loss: 0.6003 - accuracy: 0.7556 - val_loss: 0.6794 - val_accuracy: 0.6837\nEpoch 8/20\n83/83 [==============================] - 3s 40ms/step - loss: 0.5287 - accuracy: 0.7923 - val_loss: 0.5597 - val_accuracy: 0.7517\nEpoch 9/20\n83/83 [==============================] - 3s 40ms/step - loss: 0.4529 - accuracy: 0.8313 - val_loss: 0.4397 - val_accuracy: 0.8367\nEpoch 10/20\n83/83 [==============================] - 3s 40ms/step - loss: 0.4183 - accuracy: 0.8316 - val_loss: 0.3602 - val_accuracy: 0.8741\nEpoch 11/20\n83/83 [==============================] - 3s 41ms/step - loss: 0.3463 - accuracy: 0.8733 - val_loss: 0.3634 - val_accuracy: 0.8673\nEpoch 12/20\n83/83 [==============================] - 3s 40ms/step - loss: 0.3015 - accuracy: 0.8884 - val_loss: 0.4174 - val_accuracy: 0.8435\nEpoch 13/20\n83/83 [==============================] - 3s 41ms/step - loss: 0.2942 - accuracy: 0.8910 - val_loss: 0.3249 - val_accuracy: 0.8980\nEpoch 14/20\n83/83 [==============================] - 3s 40ms/step - loss: 0.2450 - accuracy: 0.9187 - val_loss: 0.3164 - val_accuracy: 0.8844\nEpoch 15/20\n83/83 [==============================] - 3s 40ms/step - loss: 0.2589 - accuracy: 0.9031 - val_loss: 0.4015 - val_accuracy: 0.8605\nEpoch 16/20\n83/83 [==============================] - 3s 41ms/step - loss: 0.2170 - accuracy: 0.9236 - val_loss: 0.2205 - val_accuracy: 0.9320\nEpoch 17/20\n83/83 [==============================] - 3s 41ms/step - loss: 0.1755 - accuracy: 0.9338 - val_loss: 0.4025 - val_accuracy: 0.8469\nEpoch 18/20\n83/83 [==============================] - 3s 40ms/step - loss: 0.1512 - accuracy: 0.9459 - val_loss: 0.4163 - val_accuracy: 0.8605\nEpoch 19/20\n83/83 [==============================] - 3s 40ms/step - loss: 0.1986 - accuracy: 0.9323 - val_loss: 0.3392 - val_accuracy: 0.8946\nEpoch 20/20\n83/83 [==============================] - 3s 40ms/step - loss: 0.1314 - accuracy: 0.9584 - val_loss: 0.4591 - val_accuracy: 0.8776\n",
          "output_type": "stream"
        }
      ]
    },
    {
      "cell_type": "code",
      "source": [
        "import matplotlib.pyplot as plt\n",
        "import seaborn as sns"
      ],
      "metadata": {
        "execution": {
          "iopub.status.busy": "2022-11-19T07:56:38.337268Z",
          "iopub.execute_input": "2022-11-19T07:56:38.337826Z",
          "iopub.status.idle": "2022-11-19T07:56:38.414947Z",
          "shell.execute_reply.started": "2022-11-19T07:56:38.337783Z",
          "shell.execute_reply": "2022-11-19T07:56:38.413785Z"
        },
        "trusted": true,
        "id": "oGyUlEb6WqE0"
      },
      "execution_count": null,
      "outputs": []
    },
    {
      "cell_type": "code",
      "source": [
        "#model.save('braintumor.h5')\n",
        "\n",
        "acc = history.history['accuracy']\n",
        "val_acc = history.history['val_accuracy']\n",
        "epochs = range(len(acc))\n",
        "fig = plt.figure(figsize=(14,7))\n",
        "plt.plot(epochs,acc,'r',label=\"Training Accuracy\")\n",
        "plt.plot(epochs,val_acc,'b',label=\"Validation Accuracy\")\n",
        "plt.legend(loc='upper left')\n",
        "plt.show()"
      ],
      "metadata": {
        "execution": {
          "iopub.status.busy": "2022-11-19T07:59:08.340664Z",
          "iopub.execute_input": "2022-11-19T07:59:08.341048Z",
          "iopub.status.idle": "2022-11-19T07:59:08.586066Z",
          "shell.execute_reply.started": "2022-11-19T07:59:08.341014Z",
          "shell.execute_reply": "2022-11-19T07:59:08.585137Z"
        },
        "trusted": true,
        "id": "E-WEi_j5WqE0",
        "outputId": "da3e0472-b8b2-47ce-f1dc-569f85a2911a"
      },
      "execution_count": null,
      "outputs": [
        {
          "output_type": "display_data",
          "data": {
            "text/plain": "<Figure size 1008x504 with 1 Axes>",
            "image/png": "[encoded data removed]"
          },
          "metadata": {
            "needs_background": "light"
          }
        }
      ]
    },
    {
      "cell_type": "code",
      "source": [
        "loss = history.history['loss']\n",
        "val_loss = history.history['val_loss']\n",
        "epochs = range(len(loss))\n",
        "fig = plt.figure(figsize=(14,7))\n",
        "plt.plot(epochs,loss,'r',label=\"Training loss\")\n",
        "plt.plot(epochs,val_loss,'b',label=\"Validation loss\")\n",
        "plt.legend(loc='upper left')\n",
        "plt.show()"
      ],
      "metadata": {
        "execution": {
          "iopub.status.busy": "2022-11-19T08:00:16.058966Z",
          "iopub.execute_input": "2022-11-19T08:00:16.059362Z",
          "iopub.status.idle": "2022-11-19T08:00:16.289095Z",
          "shell.execute_reply.started": "2022-11-19T08:00:16.059328Z",
          "shell.execute_reply": "2022-11-19T08:00:16.288046Z"
        },
        "trusted": true,
        "id": "HpWC9FXrWqE1",
        "outputId": "42d377b5-506c-4cbd-8d7d-439c4e1d67e6"
      },
      "execution_count": null,
      "outputs": [
        {
          "output_type": "display_data",
          "data": {
            "text/plain": "<Figure size 1008x504 with 1 Axes>",
            "image/png": "[encoded data removed]"
          },
          "metadata": {
            "needs_background": "light"
          }
        }
      ]
    }
  ]
}